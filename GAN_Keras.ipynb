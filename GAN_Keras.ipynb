{
 "cells": [
  {
   "cell_type": "code",
   "execution_count": 1,
   "metadata": {
    "collapsed": true
   },
   "outputs": [],
   "source": [
    "import numpy as np\n",
    "import pandas as pd\n",
    "import matplotlib.pyplot as plt\n",
    "import os.path"
   ]
  },
  {
   "cell_type": "code",
   "execution_count": 2,
   "metadata": {},
   "outputs": [
    {
     "name": "stderr",
     "output_type": "stream",
     "text": [
      "Using TensorFlow backend.\n"
     ]
    }
   ],
   "source": [
    "from keras.models import Sequential\n",
    "from keras.layers import Dense, LSTM, Dropout, Flatten\n",
    "from keras.layers.wrappers import TimeDistributed\n",
    "from keras.callbacks import History\n",
    "from keras.optimizers import Adam, SGD\n",
    "from keras.layers.normalization import BatchNormalization"
   ]
  },
  {
   "cell_type": "code",
   "execution_count": 3,
   "metadata": {
    "collapsed": true
   },
   "outputs": [],
   "source": [
    "if not os.path.exists(os.getcwd()+'\\\\Output'):\n",
    "    os.makedirs(os.getcwd()+'\\\\Output')\n",
    "# os.path.exists: Return True if path refers to an existing path\n",
    "# getcwd() returns current working directory of a process."
   ]
  },
  {
   "cell_type": "code",
   "execution_count": 4,
   "metadata": {
    "collapsed": true
   },
   "outputs": [],
   "source": [
    "# seed for random number reproductio\n",
    "np.random.seed(180221)\n",
    "episodes = 50"
   ]
  },
  {
   "cell_type": "code",
   "execution_count": 5,
   "metadata": {
    "collapsed": true
   },
   "outputs": [],
   "source": [
    "def shuffle3D(arr):\n",
    "    for a in arr:\n",
    "        np.random.shuffle(a)\n",
    "        \n",
    "        \n",
    "def dimX(x,ts):\n",
    "    '''Adding timestep to feature'''\n",
    "    x=np.asarray(x)\n",
    "    newX=[]\n",
    "    for i, c in enumerate(x):\n",
    "        newX.append([])\n",
    "        for j in range(ts):\n",
    "            newX[i].append(c)\n",
    "    return np.array(newX)\n",
    "    # np.asarray(a): convert the input a to an array\n",
    "\n",
    "    \n",
    "def dimY(Y,ts):\n",
    "    '''adding timestep to target'''\n",
    "    temp = np.zeros((len(Y), ts, len(chars)), dtype=np.bool) #???? what is chars\n",
    "    for i, c in enumerate(Y):\n",
    "        for j, s in enumerate(c):\n",
    "            #print i, j, s\n",
    "            temp[i, j, char_idx[s]] = 1\n",
    "    return np.array(temp)\n",
    "\n",
    "\n",
    "\n",
    "def prediction(preds):\n",
    "    '''prediction of sequence with argmax'''\n",
    "    y_pred=[]\n",
    "    for i,c in enumerate(preds):\n",
    "        y_pred.append([])\n",
    "        for j in c:\n",
    "            y_pred[i].append(np.argmax(j))\n",
    "    return np.array(y_pred)\n",
    "\n",
    "\n",
    "def seq_txt(y_pred):\n",
    "    '''sequence to text conversion'''\n",
    "    newY=[]\n",
    "    for i,c in enumerate(y_pred):\n",
    "        newY.append([])\n",
    "        for j in c:\n",
    "            newY[i].append(idx_char[j])\n",
    "    return np.array(newY)\n",
    "\n",
    "\n",
    "def smiles_output(s):\n",
    "    '''joined smiles output'''\n",
    "    smiles=np.array([])\n",
    "    for i in s:\n",
    "        j=''.join(str(k) for k in i)\n",
    "        smiles=np.append(smiles,j)\n",
    "    return smiles"
   ]
  },
  {
   "cell_type": "markdown",
   "metadata": {},
   "source": [
    "# Read data"
   ]
  },
  {
   "cell_type": "code",
   "execution_count": 53,
   "metadata": {},
   "outputs": [
    {
     "name": "stdout",
     "output_type": "stream",
     "text": [
      "Number of data: 335\n"
     ]
    },
    {
     "data": {
      "text/html": [
       "<div>\n",
       "<style>\n",
       "    .dataframe thead tr:only-child th {\n",
       "        text-align: right;\n",
       "    }\n",
       "\n",
       "    .dataframe thead th {\n",
       "        text-align: left;\n",
       "    }\n",
       "\n",
       "    .dataframe tbody tr th {\n",
       "        vertical-align: top;\n",
       "    }\n",
       "</style>\n",
       "<table border=\"1\" class=\"dataframe\">\n",
       "  <thead>\n",
       "    <tr style=\"text-align: right;\">\n",
       "      <th></th>\n",
       "      <th>SMILES</th>\n",
       "      <th>cox2</th>\n",
       "      <th>estrogen</th>\n",
       "      <th>gelatinase</th>\n",
       "      <th>neuramidase</th>\n",
       "      <th>kinase</th>\n",
       "      <th>thrombin</th>\n",
       "      <th>none</th>\n",
       "    </tr>\n",
       "  </thead>\n",
       "  <tbody>\n",
       "    <tr>\n",
       "      <th>150</th>\n",
       "      <td>CCC(C1=CC=CC=C1)=C(C2=CC=CC=C2)C3=CC=C(OCC[NH]...</td>\n",
       "      <td>0</td>\n",
       "      <td>1</td>\n",
       "      <td>0</td>\n",
       "      <td>0</td>\n",
       "      <td>0</td>\n",
       "      <td>0</td>\n",
       "      <td>0</td>\n",
       "    </tr>\n",
       "    <tr>\n",
       "      <th>16</th>\n",
       "      <td>C[S](=O)(=O)C1=CC=C(C=C1)C2=C(C(=O)OC23CCCC3)C...</td>\n",
       "      <td>1</td>\n",
       "      <td>0</td>\n",
       "      <td>0</td>\n",
       "      <td>0</td>\n",
       "      <td>0</td>\n",
       "      <td>0</td>\n",
       "      <td>0</td>\n",
       "    </tr>\n",
       "    <tr>\n",
       "      <th>215</th>\n",
       "      <td>CC(C)C(NC(=O)CNC(=O)C(CS)NC(=O)C(CC[NH+]=C(N)N...</td>\n",
       "      <td>0</td>\n",
       "      <td>0</td>\n",
       "      <td>1</td>\n",
       "      <td>0</td>\n",
       "      <td>0</td>\n",
       "      <td>0</td>\n",
       "      <td>0</td>\n",
       "    </tr>\n",
       "    <tr>\n",
       "      <th>278</th>\n",
       "      <td>NC1=CC(=CC=C1)CNC(=O)C2CCCN2C(=O)C([NH3+])CC3=...</td>\n",
       "      <td>0</td>\n",
       "      <td>0</td>\n",
       "      <td>0</td>\n",
       "      <td>0</td>\n",
       "      <td>0</td>\n",
       "      <td>1</td>\n",
       "      <td>0</td>\n",
       "    </tr>\n",
       "    <tr>\n",
       "      <th>250</th>\n",
       "      <td>CCC(CC)NC1=NC(=CC=N1)C2=C(N=C[N]2C3CC[NH](C)CC...</td>\n",
       "      <td>0</td>\n",
       "      <td>0</td>\n",
       "      <td>0</td>\n",
       "      <td>0</td>\n",
       "      <td>1</td>\n",
       "      <td>0</td>\n",
       "      <td>0</td>\n",
       "    </tr>\n",
       "    <tr>\n",
       "      <th>206</th>\n",
       "      <td>CNC(=O)C(CC1=CC=CC=C1)NC(=O)C(CC(C)C)C(CSC2=CC...</td>\n",
       "      <td>0</td>\n",
       "      <td>0</td>\n",
       "      <td>1</td>\n",
       "      <td>0</td>\n",
       "      <td>0</td>\n",
       "      <td>0</td>\n",
       "      <td>0</td>\n",
       "    </tr>\n",
       "    <tr>\n",
       "      <th>313</th>\n",
       "      <td>NC(=[NH2+])C1=CC=C(CC(N2CCC(N[S](=O)(=O)C3=CC4...</td>\n",
       "      <td>0</td>\n",
       "      <td>0</td>\n",
       "      <td>0</td>\n",
       "      <td>0</td>\n",
       "      <td>0</td>\n",
       "      <td>1</td>\n",
       "      <td>0</td>\n",
       "    </tr>\n",
       "    <tr>\n",
       "      <th>258</th>\n",
       "      <td>CC[S](=O)C1=CC=C(C=C1)[N]2C=C(C3=CC=NC=C3)C(=N...</td>\n",
       "      <td>0</td>\n",
       "      <td>0</td>\n",
       "      <td>0</td>\n",
       "      <td>0</td>\n",
       "      <td>1</td>\n",
       "      <td>0</td>\n",
       "      <td>0</td>\n",
       "    </tr>\n",
       "    <tr>\n",
       "      <th>95</th>\n",
       "      <td>C[S](=O)(=O)C1=CC=C(C=C1)C2=C(SC(=C2)Br)C3=CC=...</td>\n",
       "      <td>1</td>\n",
       "      <td>0</td>\n",
       "      <td>0</td>\n",
       "      <td>0</td>\n",
       "      <td>0</td>\n",
       "      <td>0</td>\n",
       "      <td>0</td>\n",
       "    </tr>\n",
       "    <tr>\n",
       "      <th>48</th>\n",
       "      <td>COC1(CCOCC1)C2=C(F)C=C(OCC3=NC(=C(O3)C4=CC=C(C...</td>\n",
       "      <td>1</td>\n",
       "      <td>0</td>\n",
       "      <td>0</td>\n",
       "      <td>0</td>\n",
       "      <td>0</td>\n",
       "      <td>0</td>\n",
       "      <td>0</td>\n",
       "    </tr>\n",
       "  </tbody>\n",
       "</table>\n",
       "</div>"
      ],
      "text/plain": [
       "                                                SMILES  cox2  estrogen  \\\n",
       "150  CCC(C1=CC=CC=C1)=C(C2=CC=CC=C2)C3=CC=C(OCC[NH]...     0         1   \n",
       "16   C[S](=O)(=O)C1=CC=C(C=C1)C2=C(C(=O)OC23CCCC3)C...     1         0   \n",
       "215  CC(C)C(NC(=O)CNC(=O)C(CS)NC(=O)C(CC[NH+]=C(N)N...     0         0   \n",
       "278  NC1=CC(=CC=C1)CNC(=O)C2CCCN2C(=O)C([NH3+])CC3=...     0         0   \n",
       "250  CCC(CC)NC1=NC(=CC=N1)C2=C(N=C[N]2C3CC[NH](C)CC...     0         0   \n",
       "206  CNC(=O)C(CC1=CC=CC=C1)NC(=O)C(CC(C)C)C(CSC2=CC...     0         0   \n",
       "313  NC(=[NH2+])C1=CC=C(CC(N2CCC(N[S](=O)(=O)C3=CC4...     0         0   \n",
       "258  CC[S](=O)C1=CC=C(C=C1)[N]2C=C(C3=CC=NC=C3)C(=N...     0         0   \n",
       "95   C[S](=O)(=O)C1=CC=C(C=C1)C2=C(SC(=C2)Br)C3=CC=...     1         0   \n",
       "48   COC1(CCOCC1)C2=C(F)C=C(OCC3=NC(=C(O3)C4=CC=C(C...     1         0   \n",
       "\n",
       "     gelatinase  neuramidase  kinase  thrombin  none  \n",
       "150           0            0       0         0     0  \n",
       "16            0            0       0         0     0  \n",
       "215           1            0       0         0     0  \n",
       "278           0            0       0         1     0  \n",
       "250           0            0       1         0     0  \n",
       "206           1            0       0         0     0  \n",
       "313           0            0       0         1     0  \n",
       "258           0            0       1         0     0  \n",
       "95            0            0       0         0     0  \n",
       "48            0            0       0         0     0  "
      ]
     },
     "execution_count": 53,
     "metadata": {},
     "output_type": "execute_result"
    }
   ],
   "source": [
    "##read csv file\n",
    "data = pd.read_csv('stahl.csv')\n",
    "data = data.reindex(np.random.permutation(data.index))\n",
    "print('Number of data:',len(data))\n",
    "data.head(10)"
   ]
  },
  {
   "cell_type": "code",
   "execution_count": 54,
   "metadata": {},
   "outputs": [
    {
     "name": "stdout",
     "output_type": "stream",
     "text": [
      "<class 'pandas.core.series.Series'>\n"
     ]
    },
    {
     "data": {
      "text/plain": [
       "150    CCC(C1=CC=CC=C1)=C(C2=CC=CC=C2)C3=CC=C(OCC[NH]...\n",
       "16     C[S](=O)(=O)C1=CC=C(C=C1)C2=C(C(=O)OC23CCCC3)C...\n",
       "215    CC(C)C(NC(=O)CNC(=O)C(CS)NC(=O)C(CC[NH+]=C(N)N...\n",
       "278    NC1=CC(=CC=C1)CNC(=O)C2CCCN2C(=O)C([NH3+])CC3=...\n",
       "250    CCC(CC)NC1=NC(=CC=N1)C2=C(N=C[N]2C3CC[NH](C)CC...\n",
       "Name: SMILES, dtype: object"
      ]
     },
     "execution_count": 54,
     "metadata": {},
     "output_type": "execute_result"
    }
   ],
   "source": [
    "# Take the SMILES string\n",
    "Y=data.SMILES\n",
    "print(type(Y))\n",
    "Y.head()"
   ]
  },
  {
   "cell_type": "code",
   "execution_count": 62,
   "metadata": {},
   "outputs": [
    {
     "data": {
      "text/plain": [
       "numpy.ndarray"
      ]
     },
     "execution_count": 62,
     "metadata": {},
     "output_type": "execute_result"
    }
   ],
   "source": [
    "X = data.iloc[:,1:7] # in this case, take the data of column 1:7\n",
    "# DataFrame.iloc: Purely integer-location based indexing for selection by position.\n",
    "X = X.values\n",
    "X = X.astype('int')\n",
    "type(X)"
   ]
  },
  {
   "cell_type": "markdown",
   "metadata": {},
   "source": [
    "# Data preprocessing"
   ]
  },
  {
   "cell_type": "code",
   "execution_count": 63,
   "metadata": {},
   "outputs": [
    {
     "name": "stdout",
     "output_type": "stream",
     "text": [
      "105 105\n"
     ]
    },
    {
     "data": {
      "text/plain": [
       "'C[S](=O)(=O)NC1=C(OC2CCCCC2)C=C(C=C1)[N](=O)=O|||||||||||||||||||||||||||||||||||||||||||||||||||||||||||'"
      ]
     },
     "execution_count": 63,
     "metadata": {},
     "output_type": "execute_result"
    }
   ],
   "source": [
    "##padding smiles to same length by adding \"|\" at the end of smiles\n",
    "maxY = Y.str.len().max() # find the max length of SMILES \n",
    "y = Y.str.ljust(maxY, fillchar='|') # the maxY-th number frim left side, fill '|' \n",
    "ts = y.str.len().max()\n",
    "\n",
    "print(maxY, ts)\n",
    "y[0]\n",
    "#  pandas.series.str\n",
    "#  ljust(): returns the string left justified in a string of length width"
   ]
  },
  {
   "cell_type": "code",
   "execution_count": 64,
   "metadata": {},
   "outputs": [
    {
     "name": "stdout",
     "output_type": "stream",
     "text": [
      "total chars: 25\n"
     ]
    }
   ],
   "source": [
    "# CharToIndex and IndexToChar functions\n",
    "chars = sorted(list( set(\"\".join(y.values.flatten()))))\n",
    "print('total chars:', len(chars))\n",
    "\n",
    "char_idx= dict((c, i) for i, c in enumerate(chars))\n",
    "idx_char = dict((i, c) for i, c in enumerate(chars))\n",
    "\n",
    "y_dash=dimY(y,ts)\n",
    "x_dash=dimX(X,ts)"
   ]
  },
  {
   "cell_type": "markdown",
   "metadata": {
    "collapsed": true
   },
   "source": [
    "# Building Model"
   ]
  },
  {
   "cell_type": "code",
   "execution_count": 67,
   "metadata": {
    "collapsed": true
   },
   "outputs": [],
   "source": [
    "def Gen():\n",
    "    '''Generator model: generating sequence with random noise'''\n",
    "    G = Sequential() # The keras.model.Sequential() model is a linear stack of layers\n",
    "    G.add(TimeDistributed(Dense(x_dash.shape[2]), input_shape=(x_dash.shape[1], x_dash.shape[2])))\n",
    "    # intput a sequence???\n",
    "    # imeDistributedDense applies a same Dense (fully-connected) operation to every timestep of a 3D tensor.\n",
    "    \n",
    "    # Hidden layer 1 with 216 LSTM cell \n",
    "    G.add(LSTM(216, return_sequences=True)) \n",
    "    G.add(Dropout(0.3))\n",
    "    # True: output at all steps. False: output as last step.\n",
    "    \n",
    "    # Hidden layer 1 with 216 LSTM cell\n",
    "    G.add(LSTM(216, return_sequences=True))\n",
    "    G.add(Dropout(0.3))\n",
    "    \n",
    "     # Hidden layer 3 with 216 LSTM cell\n",
    "    G.add(LSTM(216, return_sequences=True))\n",
    "    #G.add(BatchNormalization(momentum=0.9))\n",
    "    \n",
    "    # Output layer with one layers that output a sequence(generating) \n",
    "    G.add(TimeDistributed(Dense(y_dash.shape[2], activation='softmax')))\n",
    "    G.compile(loss='categorical_crossentropy', optimizer=Adam(lr=2e-4))\n",
    "    return G\n",
    "\n",
    "\n",
    "\n",
    "def Dis():\n",
    "    '''Discriminator model'''\n",
    "    D = Sequential()\n",
    "    D.add(TimeDistributed(Dense(y_dash.shape[2]), input_shape=(y_dash.shape[1],y_dash.shape[2])))\n",
    "    \n",
    "    # Hidden layer 1 with 216 LSTM cell\n",
    "    D.add(LSTM(216, return_sequences=True))\n",
    "    D.add(Dropout(0.3))\n",
    "    \n",
    "    # Hidden layer 1 with 60 LSTM cell\n",
    "    D.add(LSTM(60, return_sequences=True))\n",
    "    D.add(Flatten())\n",
    "    \n",
    "    # output layer with one neural(Real or Fake)\n",
    "    D.add(Dense(1, activation='sigmoid'))\n",
    "    D.compile(loss='binary_crossentropy', optimizer=SGD(lr=0.001))\n",
    "    return D\n",
    "\n",
    "\n",
    "\n",
    "def Gan():\n",
    "    '''Generative adversarial network'''\n",
    "    GAN=Sequential()\n",
    "    GAN.add(G) # Generating mosel\n",
    "    D.trainable=False #????\n",
    "    \n",
    "    GAN.add(D) # Discriminator model\n",
    "    GAN.compile(loss='binary_crossentropy', optimizer=Adam(lr=2e-4))\n",
    "    return GAN"
   ]
  },
  {
   "cell_type": "code",
   "execution_count": 69,
   "metadata": {},
   "outputs": [],
   "source": [
    "#initializing models\n",
    "G=Gen()\n",
    "D=Dis()\n",
    "GAN=Gan()"
   ]
  },
  {
   "cell_type": "code",
   "execution_count": null,
   "metadata": {
    "collapsed": true
   },
   "outputs": [],
   "source": [
    "'''\n",
    "if os.path.exists(os.getcwd()+\"/output/Gen.h5\")==True and os.path.exists(os.getcwd()+\"/output/Dis.h5\")==True and os.path.exists(os.getcwd()+\"/output/Gan.h5\")==True:\n",
    "        #loading weights if exits\n",
    "        G.load_weights(os.getcwd()+\"/output/Gen.h5\")\n",
    "        D.load_weights(os.getcwd()+\"/output/Dis.h5\")\n",
    "        GAN.load_weights(os.getcwd()+\"/output/Gan.h5\")\n",
    "'''     "
   ]
  },
  {
   "cell_type": "code",
   "execution_count": 74,
   "metadata": {},
   "outputs": [
    {
     "name": "stdout",
     "output_type": "stream",
     "text": [
      "GAN input  : (None, 105, 6)\n",
      "GAN output : (None, 1)\n",
      "-----------------------------------\n",
      "Gen input  : (None, 105, 6)\n",
      "Gen output : (None, 105, 25)\n",
      "-----------------------------------\n",
      "Dis input  : (None, 105, 25)\n",
      "Dis output : (None, 1)\n"
     ]
    }
   ],
   "source": [
    "print(\"GAN input  : \"+str(GAN.input_shape))\n",
    "print(\"GAN output : \"+str(GAN.output_shape))\n",
    "print('-----------------------------------')\n",
    "print(\"Gen input  : \"+str(G.input_shape))\n",
    "print(\"Gen output : \"+str(G.output_shape))\n",
    "print('-----------------------------------')\n",
    "print(\"Dis input  : \"+str(D.input_shape))\n",
    "print(\"Dis output : \"+str(D.output_shape))"
   ]
  },
  {
   "cell_type": "code",
   "execution_count": 75,
   "metadata": {},
   "outputs": [
    {
     "name": "stdout",
     "output_type": "stream",
     "text": [
      "_________________________________________________________________\n",
      "Layer (type)                 Output Shape              Param #   \n",
      "=================================================================\n",
      "time_distributed_8 (TimeDist (None, 105, 25)           650       \n",
      "_________________________________________________________________\n",
      "lstm_12 (LSTM)               (None, 105, 216)          209088    \n",
      "_________________________________________________________________\n",
      "dropout_8 (Dropout)          (None, 105, 216)          0         \n",
      "_________________________________________________________________\n",
      "lstm_13 (LSTM)               (None, 105, 60)           66480     \n",
      "_________________________________________________________________\n",
      "flatten_2 (Flatten)          (None, 6300)              0         \n",
      "_________________________________________________________________\n",
      "dense_10 (Dense)             (None, 1)                 6301      \n",
      "=================================================================\n",
      "Total params: 282,519\n",
      "Trainable params: 0\n",
      "Non-trainable params: 282,519\n",
      "_________________________________________________________________\n"
     ]
    }
   ],
   "source": [
    "D.summary()"
   ]
  },
  {
   "cell_type": "code",
   "execution_count": 76,
   "metadata": {},
   "outputs": [
    {
     "name": "stdout",
     "output_type": "stream",
     "text": [
      "_________________________________________________________________\n",
      "Layer (type)                 Output Shape              Param #   \n",
      "=================================================================\n",
      "time_distributed_6 (TimeDist (None, 105, 6)            42        \n",
      "_________________________________________________________________\n",
      "lstm_9 (LSTM)                (None, 105, 216)          192672    \n",
      "_________________________________________________________________\n",
      "dropout_6 (Dropout)          (None, 105, 216)          0         \n",
      "_________________________________________________________________\n",
      "lstm_10 (LSTM)               (None, 105, 216)          374112    \n",
      "_________________________________________________________________\n",
      "dropout_7 (Dropout)          (None, 105, 216)          0         \n",
      "_________________________________________________________________\n",
      "lstm_11 (LSTM)               (None, 105, 216)          374112    \n",
      "_________________________________________________________________\n",
      "time_distributed_7 (TimeDist (None, 105, 25)           5425      \n",
      "=================================================================\n",
      "Total params: 946,363\n",
      "Trainable params: 946,363\n",
      "Non-trainable params: 0\n",
      "_________________________________________________________________\n"
     ]
    }
   ],
   "source": [
    "G.summary()"
   ]
  },
  {
   "cell_type": "code",
   "execution_count": 78,
   "metadata": {},
   "outputs": [
    {
     "name": "stdout",
     "output_type": "stream",
     "text": [
      "_________________________________________________________________\n",
      "Layer (type)                 Output Shape              Param #   \n",
      "=================================================================\n",
      "sequential_5 (Sequential)    (None, 105, 25)           946363    \n",
      "_________________________________________________________________\n",
      "sequential_6 (Sequential)    (None, 1)                 282519    \n",
      "=================================================================\n",
      "Total params: 1,228,882\n",
      "Trainable params: 946,363\n",
      "Non-trainable params: 282,519\n",
      "_________________________________________________________________\n"
     ]
    }
   ],
   "source": [
    "GAN.summary()"
   ]
  },
  {
   "cell_type": "markdown",
   "metadata": {},
   "source": [
    "# Pre-training discrimator"
   ]
  },
  {
   "cell_type": "code",
   "execution_count": 77,
   "metadata": {
    "collapsed": true
   },
   "outputs": [],
   "source": [
    "def trainDis(data=None,mc=None):\n",
    "    if data is None and mc is None:\n",
    "        # Train on fake data        \n",
    "        fake_data= G.predict(x_dash)\n",
    "        targets = np.zeros(x_dash.shape[0]).astype(int)\n",
    "        Dloss=D.fit(fake_data, targets,nb_epoch=1) \n",
    "             \n",
    "    elif data is None and mc==\"mc\":\n",
    "        #preventing mode collapse\n",
    "        #artificial noice training \n",
    "        fake_ydata=np.copy(y_dash)\n",
    "        shuffle3D(fake_ydata)\n",
    "        targets = np.zeros(x_dash.shape[0]).astype(int)\n",
    "        Dloss=D.fit(fake_ydata, targets,nb_epoch=1)    \n",
    "            \n",
    "    else:\n",
    "        # Train on real data\n",
    "        targets = np.ones(x_dash.shape[0]).astype(int)\n",
    "        Dloss=D.fit(data,targets,nb_epoch=1)    \n",
    "           \n",
    "    #print Dloss.history.keys()\n",
    "    return Dloss.history['loss'][0]"
   ]
  },
  {
   "cell_type": "code",
   "execution_count": null,
   "metadata": {
    "collapsed": true
   },
   "outputs": [],
   "source": [
    "D.trainable=True\n",
    "\n",
    "#pre training\n",
    "for i in range(20):\n",
    "    shuffleData = np.random.permutation(y_dash)\n",
    "    # np.random.permutation: Randomly permute a sequence, or return a permuted range.\n",
    "    trainDis() # call th trainDis() function \n",
    "    dloss = trainDis(shuffleData)\n",
    "    print(\"Pre Training Discrimator \"+str(dloss)+\"\\n\")"
   ]
  },
  {
   "cell_type": "markdown",
   "metadata": {},
   "source": [
    "# Train GAN Model"
   ]
  },
  {
   "cell_type": "code",
   "execution_count": null,
   "metadata": {
    "collapsed": true
   },
   "outputs": [],
   "source": [
    "def trainGAN():\n",
    "    #train Generator    \n",
    "    target = np.ones(x_dash.shape[0]).astype(int)\n",
    "    gan_loss = GAN.fit(x_dash, target,nb_epoch=1)\n",
    "    \n",
    "    return gan_loss.history['loss'][0]"
   ]
  },
  {
   "cell_type": "code",
   "execution_count": null,
   "metadata": {
    "collapsed": true
   },
   "outputs": [],
   "source": [
    "for episode in range(episodes):\n",
    "    print(\"Epoch \"+str(episode)+\"/\"+str(episodes))\n",
    "    trainDis()\n",
    "    shuffleData = np.random.permutation(y_dash)\n",
    "    disloss = trainDis(y_dash)\n",
    "    disloss = trainDis(mc=\"mc\")      \n",
    "    ganloss = trainGAN()    \n",
    "    print(\"D loss=\"+str(disloss)+\" GAN loss=\"+str(ganloss))\n",
    "    \n",
    "    if episode%(episodes/100)==0:\n",
    "        #G.save(os.getcwd()+'/output/Gen.h5')\n",
    "        #D.save(os.getcwd()+'/output/Dis.h5')\n",
    "        #GAN.save(os.getcwd()+'/output/Gan.h5')\n",
    "        \n",
    "        #for saving files in floydhub output directory              \n",
    "        G.save(\"/output/Gen_mc.h5\")\n",
    "        D.save(\"/output/Dis_mc.h5\")\n",
    "        GAN.save(\"/output/Gan_mc.h5\")\n",
    "        \n",
    "        \n",
    "    if episode%(episodes/600)==0:\n",
    "        print(\"Predicting Molecule\")\n",
    "        x_pred=[[0,0,0,1,0,0],[0,1,0,0,0,0],[0,0,0,0,0,1]]\n",
    "        x_pred=dimX(x_pred,ts)   \n",
    "        preds=G.predict(x_pred)\n",
    "        y_pred=prediction(preds)\n",
    "        y_pred=seq_txt(y_pred)\n",
    "        s=smiles_output(y_pred)\n",
    "        print(s)"
   ]
  },
  {
   "cell_type": "markdown",
   "metadata": {},
   "source": [
    "# Predict"
   ]
  },
  {
   "cell_type": "code",
   "execution_count": null,
   "metadata": {
    "collapsed": true
   },
   "outputs": [],
   "source": [
    "##For Prediction\n",
    "\n",
    "'''\n",
    "#start Prediction\n",
    "Ghash=Gen()\n",
    "Ghash.load_weights('Gen_mc.h5')\n",
    "x_pred=[[0,0,0,1,0,0],\n",
    "        [0,1,0,0,0,0],\n",
    "        [0,0,0,0,0,1]]\n",
    "x_pred=[[0.6,0,0,0,0,0],\n",
    "        [.3,0,0,0,0,0],\n",
    "        [0.7,0,0,0,0,0]]\n",
    "\t\n",
    "x_pred=dimX(x_pred,ts)      \n",
    "preds=Ghash.predict(x_pred)\n",
    "y_pred=prediction(preds)\n",
    "y_pred=seq_txt(y_pred)\n",
    "s=smiles_output(y_pred)\n",
    "print s\n",
    "#end prediction\n",
    "'''"
   ]
  }
 ],
 "metadata": {
  "kernelspec": {
   "display_name": "Python 3",
   "language": "python",
   "name": "python3"
  },
  "language_info": {
   "codemirror_mode": {
    "name": "ipython",
    "version": 3
   },
   "file_extension": ".py",
   "mimetype": "text/x-python",
   "name": "python",
   "nbconvert_exporter": "python",
   "pygments_lexer": "ipython3",
   "version": "3.6.2"
  }
 },
 "nbformat": 4,
 "nbformat_minor": 2
}
