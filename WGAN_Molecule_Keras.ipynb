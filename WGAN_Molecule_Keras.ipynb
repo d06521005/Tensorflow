{
 "cells": [
  {
   "cell_type": "code",
   "execution_count": null,
   "metadata": {
    "collapsed": true
   },
   "outputs": [],
   "source": [
    "# Code resource: https://github.com/Gananath/DrugAI\n",
    "\n",
    "'''\n",
    "original Author: Gananath R\n",
    "DrugAI-WGAN: \n",
    "Contact: https://github.com/gananath\n",
    "'''"
   ]
  },
  {
   "cell_type": "code",
   "execution_count": 3,
   "metadata": {},
   "outputs": [
    {
     "name": "stderr",
     "output_type": "stream",
     "text": [
      "Using TensorFlow backend.\n"
     ]
    }
   ],
   "source": [
    "import numpy as np\n",
    "import pandas as pd\n",
    "from keras.models import Sequential\n",
    "from keras.layers import Dense, Activation, Flatten, Reshape\n",
    "from keras.layers import Conv1D, UpSampling1D, MaxPooling1D\n",
    "from keras.layers import LeakyReLU, Dropout\n",
    "from keras.layers import BatchNormalization\n",
    "from keras.optimizers import RMSprop, Adam\n",
    "from keras.callbacks import ModelCheckpoint\n",
    "import keras.backend as K"
   ]
  },
  {
   "cell_type": "markdown",
   "metadata": {},
   "source": [
    "# Function Area"
   ]
  },
  {
   "cell_type": "code",
   "execution_count": 4,
   "metadata": {
    "collapsed": true
   },
   "outputs": [],
   "source": [
    "def wasserstein_loss(y_true, y_pred):\n",
    "    '''Loss dunction'''\n",
    "    return K.mean(y_true * y_pred)\n",
    "    \n",
    "\n",
    "def dimX(x, ts):\n",
    "    '''time step addtition to feature'''\n",
    "    x = np.asarray(x)\n",
    "    newX = []\n",
    "    for i, c in enumerate(x):\n",
    "        newX.append([])\n",
    "        for j in range(ts):\n",
    "            newX[i].append(c)\n",
    "    return np.array(newX)\n",
    "\n",
    "\n",
    "def dimY(Y, ts, char_idx, chars):\n",
    "    '''time step addtition to feature'''\n",
    "    temp = np.zeros((len(Y), ts, len(chars)), dtype=np.bool)\n",
    "    for i, c in enumerate(Y):\n",
    "        for j, s in enumerate(c):\n",
    "            # print i, j, s\n",
    "            temp[i, j, char_idx[s]] = 1\n",
    "    return np.array(temp)\n",
    "\n",
    "\n",
    "def train_test_split(X, y, percentage=0.75):\n",
    "    p = int(len(X) * percentage)\n",
    "    X_train = X[0:p]\n",
    "    Y_train = y[0:p]\n",
    "    X_test = X[p:]\n",
    "    Y_test = y[p:]\n",
    "    return X_train, X_test, Y_train, Y_test\n",
    "\n",
    "\n",
    "def prediction(preds):\n",
    "    '''prediction of argmax'''\n",
    "    y_pred = []\n",
    "    for i, c in enumerate(preds):\n",
    "        y_pred.append([])\n",
    "        for j in c:\n",
    "            y_pred[i].append(np.argmax(j))\n",
    "    return np.array(y_pred)\n",
    "\n",
    "\n",
    "def seq_txt(y_pred, idx_char):\n",
    "    '''sequence to text conversion'''\n",
    "    newY = []\n",
    "    for i, c in enumerate(y_pred):\n",
    "        newY.append([])\n",
    "        for j in c:\n",
    "            newY[i].append(idx_char[j])\n",
    "\n",
    "    return np.array(newY)\n",
    "\n",
    "\n",
    "def smiles_output(s):\n",
    "    '''joined smiles output'''\n",
    "    smiles = np.array([])\n",
    "    for i in s:\n",
    "        j = ''.join(str(k) for k in i)\n",
    "        smiles = np.append(smiles, j)\n",
    "    return smiles"
   ]
  },
  {
   "cell_type": "code",
   "execution_count": 5,
   "metadata": {
    "collapsed": true
   },
   "outputs": [],
   "source": [
    "np.random.seed(2017)"
   ]
  },
  {
   "cell_type": "markdown",
   "metadata": {},
   "source": [
    "# Read Data"
   ]
  },
  {
   "cell_type": "code",
   "execution_count": 6,
   "metadata": {},
   "outputs": [
    {
     "name": "stdout",
     "output_type": "stream",
     "text": [
      "Number of data: 335\n"
     ]
    },
    {
     "data": {
      "text/html": [
       "<div>\n",
       "<style>\n",
       "    .dataframe thead tr:only-child th {\n",
       "        text-align: right;\n",
       "    }\n",
       "\n",
       "    .dataframe thead th {\n",
       "        text-align: left;\n",
       "    }\n",
       "\n",
       "    .dataframe tbody tr th {\n",
       "        vertical-align: top;\n",
       "    }\n",
       "</style>\n",
       "<table border=\"1\" class=\"dataframe\">\n",
       "  <thead>\n",
       "    <tr style=\"text-align: right;\">\n",
       "      <th></th>\n",
       "      <th>SMILES</th>\n",
       "      <th>cox2</th>\n",
       "      <th>estrogen</th>\n",
       "      <th>gelatinase</th>\n",
       "      <th>neuramidase</th>\n",
       "      <th>kinase</th>\n",
       "      <th>thrombin</th>\n",
       "      <th>none</th>\n",
       "    </tr>\n",
       "  </thead>\n",
       "  <tbody>\n",
       "    <tr>\n",
       "      <th>21</th>\n",
       "      <td>N[S](=O)(=O)C1=CC=C(C=C1)C2=CC(=N[N]2C3=CC=C(F...</td>\n",
       "      <td>1</td>\n",
       "      <td>0</td>\n",
       "      <td>0</td>\n",
       "      <td>0</td>\n",
       "      <td>0</td>\n",
       "      <td>0</td>\n",
       "      <td>0</td>\n",
       "    </tr>\n",
       "    <tr>\n",
       "      <th>30</th>\n",
       "      <td>C[S](=O)(=O)C1=CC=C(C=C1)C2=C(C=C(F)C(=C2)F)C3...</td>\n",
       "      <td>1</td>\n",
       "      <td>0</td>\n",
       "      <td>0</td>\n",
       "      <td>0</td>\n",
       "      <td>0</td>\n",
       "      <td>0</td>\n",
       "      <td>0</td>\n",
       "    </tr>\n",
       "    <tr>\n",
       "      <th>102</th>\n",
       "      <td>C[S](=O)(=O)C1=CC=C(C=C1)C2=C(C(=C)C2)C3=CC=CC=C3</td>\n",
       "      <td>1</td>\n",
       "      <td>0</td>\n",
       "      <td>0</td>\n",
       "      <td>0</td>\n",
       "      <td>0</td>\n",
       "      <td>0</td>\n",
       "      <td>0</td>\n",
       "    </tr>\n",
       "    <tr>\n",
       "      <th>250</th>\n",
       "      <td>CCC(CC)NC1=NC(=CC=N1)C2=C(N=C[N]2C3CC[NH](C)CC...</td>\n",
       "      <td>0</td>\n",
       "      <td>0</td>\n",
       "      <td>0</td>\n",
       "      <td>0</td>\n",
       "      <td>1</td>\n",
       "      <td>0</td>\n",
       "      <td>0</td>\n",
       "    </tr>\n",
       "    <tr>\n",
       "      <th>299</th>\n",
       "      <td>CCOC1=C(Cl)C2=C(C=C(C=C2)[NH+]=C(N)N)C(=O)O1</td>\n",
       "      <td>0</td>\n",
       "      <td>0</td>\n",
       "      <td>0</td>\n",
       "      <td>0</td>\n",
       "      <td>0</td>\n",
       "      <td>1</td>\n",
       "      <td>0</td>\n",
       "    </tr>\n",
       "    <tr>\n",
       "      <th>172</th>\n",
       "      <td>CC1=C(C(OC2=C1C=C(O)C=C2)C3=CC=C(OCC[NH]4CCCCC...</td>\n",
       "      <td>0</td>\n",
       "      <td>1</td>\n",
       "      <td>0</td>\n",
       "      <td>0</td>\n",
       "      <td>0</td>\n",
       "      <td>0</td>\n",
       "      <td>0</td>\n",
       "    </tr>\n",
       "    <tr>\n",
       "      <th>214</th>\n",
       "      <td>CNC(=O)C(CC1=CC=CC=C1)NC(=O)C(CC(C)C)NC(CCN2C(...</td>\n",
       "      <td>0</td>\n",
       "      <td>0</td>\n",
       "      <td>1</td>\n",
       "      <td>0</td>\n",
       "      <td>0</td>\n",
       "      <td>0</td>\n",
       "      <td>0</td>\n",
       "    </tr>\n",
       "    <tr>\n",
       "      <th>145</th>\n",
       "      <td>CC12CCC3C(CCC4=C3C=CC(=C4)O)C1CCCC2O</td>\n",
       "      <td>0</td>\n",
       "      <td>1</td>\n",
       "      <td>0</td>\n",
       "      <td>0</td>\n",
       "      <td>0</td>\n",
       "      <td>0</td>\n",
       "      <td>0</td>\n",
       "    </tr>\n",
       "    <tr>\n",
       "      <th>50</th>\n",
       "      <td>COC1=CC(=CC=C1)SCC2=N[N](C3=CC=C(C=C3)[S](C)(=...</td>\n",
       "      <td>1</td>\n",
       "      <td>0</td>\n",
       "      <td>0</td>\n",
       "      <td>0</td>\n",
       "      <td>0</td>\n",
       "      <td>0</td>\n",
       "      <td>0</td>\n",
       "    </tr>\n",
       "    <tr>\n",
       "      <th>121</th>\n",
       "      <td>CC(C1=CC(=C(O)C(=C1)C(C)(C)C)C(C)(C)C)=C2NC(=N...</td>\n",
       "      <td>1</td>\n",
       "      <td>0</td>\n",
       "      <td>0</td>\n",
       "      <td>0</td>\n",
       "      <td>0</td>\n",
       "      <td>0</td>\n",
       "      <td>0</td>\n",
       "    </tr>\n",
       "  </tbody>\n",
       "</table>\n",
       "</div>"
      ],
      "text/plain": [
       "                                                SMILES  cox2  estrogen  \\\n",
       "21   N[S](=O)(=O)C1=CC=C(C=C1)C2=CC(=N[N]2C3=CC=C(F...     1         0   \n",
       "30   C[S](=O)(=O)C1=CC=C(C=C1)C2=C(C=C(F)C(=C2)F)C3...     1         0   \n",
       "102  C[S](=O)(=O)C1=CC=C(C=C1)C2=C(C(=C)C2)C3=CC=CC=C3     1         0   \n",
       "250  CCC(CC)NC1=NC(=CC=N1)C2=C(N=C[N]2C3CC[NH](C)CC...     0         0   \n",
       "299       CCOC1=C(Cl)C2=C(C=C(C=C2)[NH+]=C(N)N)C(=O)O1     0         0   \n",
       "172  CC1=C(C(OC2=C1C=C(O)C=C2)C3=CC=C(OCC[NH]4CCCCC...     0         1   \n",
       "214  CNC(=O)C(CC1=CC=CC=C1)NC(=O)C(CC(C)C)NC(CCN2C(...     0         0   \n",
       "145               CC12CCC3C(CCC4=C3C=CC(=C4)O)C1CCCC2O     0         1   \n",
       "50   COC1=CC(=CC=C1)SCC2=N[N](C3=CC=C(C=C3)[S](C)(=...     1         0   \n",
       "121  CC(C1=CC(=C(O)C(=C1)C(C)(C)C)C(C)(C)C)=C2NC(=N...     1         0   \n",
       "\n",
       "     gelatinase  neuramidase  kinase  thrombin  none  \n",
       "21            0            0       0         0     0  \n",
       "30            0            0       0         0     0  \n",
       "102           0            0       0         0     0  \n",
       "250           0            0       1         0     0  \n",
       "299           0            0       0         1     0  \n",
       "172           0            0       0         0     0  \n",
       "214           1            0       0         0     0  \n",
       "145           0            0       0         0     0  \n",
       "50            0            0       0         0     0  \n",
       "121           0            0       0         0     0  "
      ]
     },
     "execution_count": 6,
     "metadata": {},
     "output_type": "execute_result"
    }
   ],
   "source": [
    "# Read csv file\n",
    "data = pd.read_csv('stahl.csv')\n",
    "data = data.reindex(np.random.permutation(data.index))\n",
    "print('Number of data:',len(data))\n",
    "data.head(10)"
   ]
  },
  {
   "cell_type": "code",
   "execution_count": 7,
   "metadata": {},
   "outputs": [
    {
     "name": "stdout",
     "output_type": "stream",
     "text": [
      "<class 'pandas.core.series.Series'>\n"
     ]
    },
    {
     "data": {
      "text/plain": [
       "21     N[S](=O)(=O)C1=CC=C(C=C1)C2=CC(=N[N]2C3=CC=C(F...\n",
       "30     C[S](=O)(=O)C1=CC=C(C=C1)C2=C(C=C(F)C(=C2)F)C3...\n",
       "102    C[S](=O)(=O)C1=CC=C(C=C1)C2=C(C(=C)C2)C3=CC=CC=C3\n",
       "250    CCC(CC)NC1=NC(=CC=N1)C2=C(N=C[N]2C3CC[NH](C)CC...\n",
       "299         CCOC1=C(Cl)C2=C(C=C(C=C2)[NH+]=C(N)N)C(=O)O1\n",
       "Name: SMILES, dtype: object"
      ]
     },
     "execution_count": 7,
     "metadata": {},
     "output_type": "execute_result"
    }
   ],
   "source": [
    "# Take the SMILES string\n",
    "Y=data.SMILES\n",
    "print(type(Y))\n",
    "Y[0:5]"
   ]
  },
  {
   "cell_type": "code",
   "execution_count": 8,
   "metadata": {},
   "outputs": [
    {
     "data": {
      "text/plain": [
       "numpy.ndarray"
      ]
     },
     "execution_count": 8,
     "metadata": {},
     "output_type": "execute_result"
    }
   ],
   "source": [
    "X = data.iloc[:,1:7] # in this case, take the data of column 1:7\n",
    "# DataFrame.iloc: Purely integer-location based indexing for selection by position.\n",
    "X = X.values\n",
    "X = X.astype('int')\n",
    "type(X)"
   ]
  },
  {
   "cell_type": "markdown",
   "metadata": {},
   "source": [
    "# Data Preprocessing"
   ]
  },
  {
   "cell_type": "code",
   "execution_count": 9,
   "metadata": {},
   "outputs": [
    {
     "name": "stdout",
     "output_type": "stream",
     "text": [
      "ts=116\n",
      "total chars: 25\n",
      "Shape\n",
      " X=(335, 6) Y=(335, 116, 25)\n"
     ]
    }
   ],
   "source": [
    "# padding smiles to same length by adding \"|\" at the end of smiles\n",
    "maxY = Y.str.len().max() + 11 # find the max length of SMILES\n",
    "y = Y.str.ljust(maxY, fillchar='|') # the maxY-th number frim left side, fill '|'\n",
    "ts = y.str.len().max()\n",
    "print (\"ts={0}\".format(ts))\n",
    "\n",
    "# CharToIndex and IndexToChar functions\n",
    "chars = sorted(list(set(\"\".join(y.values.flatten()))))\n",
    "print('total chars:', len(chars))\n",
    "\n",
    "char_idx = dict((c, i) for i, c in enumerate(chars))\n",
    "idx_char = dict((i, c) for i, c in enumerate(chars))\n",
    "\n",
    "y_dash = dimY(y, ts, char_idx, chars)\n",
    "x_dash = X\n",
    "print(\"Shape\\n X={0} Y={1}\".format(x_dash.shape, y_dash.shape))"
   ]
  },
  {
   "cell_type": "markdown",
   "metadata": {},
   "source": [
    "# Building Model"
   ]
  },
  {
   "cell_type": "code",
   "execution_count": 11,
   "metadata": {},
   "outputs": [],
   "source": [
    "def Discriminator(y_dash, dropout=0.4, lr=0.00001, PATH=\"Dis.h5\"):\n",
    "    \"\"\"Creates a discriminator CNN model that takes a sequence as input and outputs a single value(Real or Fake) \"\"\"\n",
    "    model = Sequential()\n",
    "    # First convolution layer\n",
    "    model.add(Conv1D(input_shape=(y_dash.shape[1], y_dash.shape[2]),\n",
    "                     nb_filter=25,\n",
    "                     filter_length=4,\n",
    "                     border_mode='same'))\n",
    "    model.add(LeakyReLU())\n",
    "    model.add(Dropout(dropout))\n",
    "    model.add(MaxPooling1D())\n",
    "    \n",
    "    # 2-th convolution layere\n",
    "    model.add(Conv1D(nb_filter=10,\n",
    "                     filter_length=4,\n",
    "                     border_mode='same'))\n",
    "    model.add(LeakyReLU())\n",
    "    model.add(Dropout(dropout))\n",
    "    model.add(MaxPooling1D())\n",
    "    model.add(Flatten())\n",
    "    \n",
    "    # 3-th layer DNN\n",
    "    model.add(Dense(64))\n",
    "    model.add(LeakyReLU())\n",
    "    model.add(Dropout(dropout))\n",
    "    model.add(Dense(1))\n",
    "    model.add(Activation('linear'))\n",
    "\n",
    "    opt = Adam(lr, beta_1=0.5, beta_2=0.9)\n",
    "\n",
    "    #reduce_lr = ReduceLROnPlateau(monitor='val_acc', factor=0.9, patience=30, min_lr=0.000001, verbose=1)\n",
    "    checkpoint_D = ModelCheckpoint(filepath=PATH, \n",
    "                                   verbose=1, \n",
    "                                   save_best_only=True)\n",
    "\n",
    "    model.compile(optimizer=opt,\n",
    "                  loss=wasserstein_loss,\n",
    "                  metrics=['accuracy'])\n",
    "    return model, checkpoint_D\n",
    "\n",
    "\n",
    "\n",
    "def Generator(x_dash, y_dash, dropout=0.4, lr=0.00001, PATH=\"Gen.h5\"):\n",
    "    \"\"\"Creates a Generator DNN model that takes OneHot as input and outputs a sequence \"\"\"\n",
    "    model = Sequential()\n",
    "    \n",
    "     # Input layer\n",
    "    model.add(Dense(x_dash.shape[1], activation=\"relu\", input_shape=(6,)))\n",
    "    model.add(Dense( int(y_dash.shape[1]/4 * y_dash.shape[2]*8), #(None, 5800)\n",
    "             activation=\"relu\"))\n",
    "    model.add(Reshape((int(y_dash.shape[1] / 4), y_dash.shape[2] * 8)))\n",
    "    model.add(BatchNormalization(momentum=0.8))\n",
    "    model.add(Dropout(dropout))\n",
    "    model.add(UpSampling1D())\n",
    "    \n",
    "    # 1-th convolution layere\n",
    "    model.add(Conv1D(y_dash.shape[2] * 8, kernel_size=4, padding=\"same\"))\n",
    "    model.add(Activation(\"relu\"))\n",
    "    model.add(BatchNormalization(momentum=0.8))\n",
    "    model.add(Dropout(dropout))\n",
    "    model.add(UpSampling1D())\n",
    "    \n",
    "    # 2-th convolution layere\n",
    "    model.add(Conv1D(y_dash.shape[2] * 2, kernel_size=4, padding=\"same\"))\n",
    "    model.add(Activation(\"relu\"))\n",
    "    model.add(BatchNormalization(momentum=0.8))\n",
    "    model.add(Dropout(dropout))\n",
    "    \n",
    "    # 3-th convolution layere\n",
    "    model.add(Conv1D(y_dash.shape[2] * 1, kernel_size=4, padding=\"same\"))\n",
    "    model.add(Activation(\"softmax\"))\n",
    "    opt = Adam(lr, beta_1=0.5, beta_2=0.9)\n",
    "    checkpoint_G = ModelCheckpoint(filepath=PATH, \n",
    "                                   verbose=1, \n",
    "                                   save_best_only=True)\n",
    "    model.compile(loss=\"categorical_crossentropy\",\n",
    "                  optimizer=opt,\n",
    "                  metrics=['accuracy'])\n",
    "    return model, checkpoint_G\n",
    "\n",
    "\n",
    "def Gan(PATH=\"GAN.h5\", lr=0.00001):\n",
    "    '''GAN model'''\n",
    "    GAN = Sequential()\n",
    "    GAN.add(G) # Generating mosel\n",
    "    \n",
    "    D.trainable = False # Weight of dis model will not change when training GAN\n",
    "    # How model.trainable = False works in keras (GAN model)\n",
    "    # https://gist.github.com/naotokui/a9274f12af9d946e99b6df73a5d2af6d\n",
    "    GAN.add(D) # Discriminator model\n",
    "    checkpoint_GAN = ModelCheckpoint(filepath=PATH, \n",
    "                                     verbose=1, \n",
    "                                     save_best_only=True)\n",
    "    GAN.compile(loss=wasserstein_loss,\n",
    "                optimizer=Adam( lr,\n",
    "                                beta_1=0.5,\n",
    "                                beta_2=0.9))\n",
    "    return GAN, checkpoint_GAN"
   ]
  },
  {
   "cell_type": "code",
   "execution_count": 12,
   "metadata": {},
   "outputs": [],
   "source": [
    "BATCH_SIZE = 32\n",
    "HALF_BATCH = int(BATCH_SIZE / 2)\n",
    "CLIP = 0.01\n",
    "epochs = 100000\n",
    "n_critic = 5"
   ]
  },
  {
   "cell_type": "code",
   "execution_count": null,
   "metadata": {
    "collapsed": true
   },
   "outputs": [],
   "source": [
    "# Building Model\n",
    "G, checkG = Generator(x_dash, y_dash)\n",
    "D, checkD = Discriminator(y_dash)\n",
    "GAN, checkGAN = Gan()\n",
    "# Enable training in discrimator\n",
    "D.trainable = True"
   ]
  },
  {
   "cell_type": "markdown",
   "metadata": {},
   "source": [
    "# Training Model"
   ]
  },
  {
   "cell_type": "code",
   "execution_count": 14,
   "metadata": {},
   "outputs": [
    {
     "name": "stderr",
     "output_type": "stream",
     "text": [
      "C:\\Users\\Eric\\Anaconda3\\envs\\Tensorflow\\lib\\site-packages\\keras\\engine\\training.py:973: UserWarning: Discrepancy between trainable weights and collected trainable weights, did you set `model.trainable` without calling `model.compile` after ?\n",
      "  'Discrepancy between trainable weights and collected trainable'\n"
     ]
    },
    {
     "name": "stdout",
     "output_type": "stream",
     "text": [
      "0 [D loss: 0.999995] [G loss: 1.000009]\n",
      "Prediction\n",
      "[ ']#FFFFFFFFFFFFFFFFFFFFFFFFFFFFFFFFFFFFFFFFFFFFFFFFFFFFFFFFFFFFFFFFFFFFFFFFFFFFFFFFFFFFFFFFFFFFFFFFFFFFFFFFFFFFFFFFFl'\n",
      " ']#FFFFFFFFFFFFFFFFFFFFFFFFFFFFFFFFFFFFFFFFFFFFFFFFFFFFFFFFFFFFFFFFFFFFFFFFFFFFFFFFFFFFFFFFFFFFFFFFFFFFFFFFFFFFFFFFFl'\n",
      " ']#FFFFFFFFFFFFFFFFFFFFFFFFFF##FFFFFFFFFFFFFFFFFFFFFFFFFFFFFFFFFFFFFFFFFFFFFFFFFFFFFFFFFFFFFFFFFFFFFFFFFFFF#FFFFFFFFl']\n",
      "1 [D loss: 0.999992] [G loss: 1.000012]\n",
      "2 [D loss: 0.999995] [G loss: 1.000011]\n",
      "3 [D loss: 0.999992] [G loss: 1.000013]\n",
      "4 [D loss: 0.999991] [G loss: 1.000014]\n",
      "5 [D loss: 0.999995] [G loss: 1.000014]\n",
      "6 [D loss: 0.999997] [G loss: 1.000016]\n",
      "7 [D loss: 0.999997] [G loss: 1.000017]\n",
      "8 [D loss: 0.999994] [G loss: 1.000018]\n",
      "9 [D loss: 1.000007] [G loss: 1.000020]\n",
      "10 [D loss: 0.999997] [G loss: 1.000017]\n",
      "11 [D loss: 1.000007] [G loss: 1.000019]\n",
      "12 [D loss: 1.000004] [G loss: 1.000017]\n",
      "13 [D loss: 1.000010] [G loss: 1.000016]\n"
     ]
    },
    {
     "ename": "KeyboardInterrupt",
     "evalue": "",
     "output_type": "error",
     "traceback": [
      "\u001b[1;31m---------------------------------------------------------------------------\u001b[0m",
      "\u001b[1;31mKeyboardInterrupt\u001b[0m                         Traceback (most recent call last)",
      "\u001b[1;32m<ipython-input-14-e69fe184e7b5>\u001b[0m in \u001b[0;36m<module>\u001b[1;34m()\u001b[0m\n\u001b[0;32m     18\u001b[0m         d_loss_real = D.train_on_batch(\n\u001b[0;32m     19\u001b[0m             imgs, -np.ones((HALF_BATCH, 1)))  # linear activation\n\u001b[1;32m---> 20\u001b[1;33m         \u001b[0md_loss_fake\u001b[0m \u001b[1;33m=\u001b[0m \u001b[0mD\u001b[0m\u001b[1;33m.\u001b[0m\u001b[0mtrain_on_batch\u001b[0m\u001b[1;33m(\u001b[0m\u001b[0mgen_imgs\u001b[0m\u001b[1;33m,\u001b[0m \u001b[0mnp\u001b[0m\u001b[1;33m.\u001b[0m\u001b[0mones\u001b[0m\u001b[1;33m(\u001b[0m\u001b[1;33m(\u001b[0m\u001b[0mHALF_BATCH\u001b[0m\u001b[1;33m,\u001b[0m \u001b[1;36m1\u001b[0m\u001b[1;33m)\u001b[0m\u001b[1;33m)\u001b[0m\u001b[1;33m)\u001b[0m\u001b[1;33m\u001b[0m\u001b[0m\n\u001b[0m\u001b[0;32m     21\u001b[0m         \u001b[0md_loss\u001b[0m \u001b[1;33m=\u001b[0m \u001b[1;36m0.5\u001b[0m \u001b[1;33m*\u001b[0m \u001b[0mnp\u001b[0m\u001b[1;33m.\u001b[0m\u001b[0madd\u001b[0m\u001b[1;33m(\u001b[0m\u001b[0md_loss_fake\u001b[0m\u001b[1;33m,\u001b[0m \u001b[0md_loss_real\u001b[0m\u001b[1;33m)\u001b[0m\u001b[1;33m\u001b[0m\u001b[0m\n\u001b[0;32m     22\u001b[0m \u001b[1;33m\u001b[0m\u001b[0m\n",
      "\u001b[1;32m~\\Anaconda3\\envs\\Tensorflow\\lib\\site-packages\\keras\\models.py\u001b[0m in \u001b[0;36mtrain_on_batch\u001b[1;34m(self, x, y, class_weight, sample_weight)\u001b[0m\n\u001b[0;32m   1046\u001b[0m         return self.model.train_on_batch(x, y,\n\u001b[0;32m   1047\u001b[0m                                          \u001b[0msample_weight\u001b[0m\u001b[1;33m=\u001b[0m\u001b[0msample_weight\u001b[0m\u001b[1;33m,\u001b[0m\u001b[1;33m\u001b[0m\u001b[0m\n\u001b[1;32m-> 1048\u001b[1;33m                                          class_weight=class_weight)\n\u001b[0m\u001b[0;32m   1049\u001b[0m \u001b[1;33m\u001b[0m\u001b[0m\n\u001b[0;32m   1050\u001b[0m     def test_on_batch(self, x, y,\n",
      "\u001b[1;32m~\\Anaconda3\\envs\\Tensorflow\\lib\\site-packages\\keras\\engine\\training.py\u001b[0m in \u001b[0;36mtrain_on_batch\u001b[1;34m(self, x, y, sample_weight, class_weight)\u001b[0m\n\u001b[0;32m   1830\u001b[0m             \u001b[0mins\u001b[0m \u001b[1;33m=\u001b[0m \u001b[0mx\u001b[0m \u001b[1;33m+\u001b[0m \u001b[0my\u001b[0m \u001b[1;33m+\u001b[0m \u001b[0msample_weights\u001b[0m\u001b[1;33m\u001b[0m\u001b[0m\n\u001b[0;32m   1831\u001b[0m         \u001b[0mself\u001b[0m\u001b[1;33m.\u001b[0m\u001b[0m_make_train_function\u001b[0m\u001b[1;33m(\u001b[0m\u001b[1;33m)\u001b[0m\u001b[1;33m\u001b[0m\u001b[0m\n\u001b[1;32m-> 1832\u001b[1;33m         \u001b[0moutputs\u001b[0m \u001b[1;33m=\u001b[0m \u001b[0mself\u001b[0m\u001b[1;33m.\u001b[0m\u001b[0mtrain_function\u001b[0m\u001b[1;33m(\u001b[0m\u001b[0mins\u001b[0m\u001b[1;33m)\u001b[0m\u001b[1;33m\u001b[0m\u001b[0m\n\u001b[0m\u001b[0;32m   1833\u001b[0m         \u001b[1;32mif\u001b[0m \u001b[0mlen\u001b[0m\u001b[1;33m(\u001b[0m\u001b[0moutputs\u001b[0m\u001b[1;33m)\u001b[0m \u001b[1;33m==\u001b[0m \u001b[1;36m1\u001b[0m\u001b[1;33m:\u001b[0m\u001b[1;33m\u001b[0m\u001b[0m\n\u001b[0;32m   1834\u001b[0m             \u001b[1;32mreturn\u001b[0m \u001b[0moutputs\u001b[0m\u001b[1;33m[\u001b[0m\u001b[1;36m0\u001b[0m\u001b[1;33m]\u001b[0m\u001b[1;33m\u001b[0m\u001b[0m\n",
      "\u001b[1;32m~\\Anaconda3\\envs\\Tensorflow\\lib\\site-packages\\keras\\backend\\tensorflow_backend.py\u001b[0m in \u001b[0;36m__call__\u001b[1;34m(self, inputs)\u001b[0m\n\u001b[0;32m   2350\u001b[0m         \u001b[0msession\u001b[0m \u001b[1;33m=\u001b[0m \u001b[0mget_session\u001b[0m\u001b[1;33m(\u001b[0m\u001b[1;33m)\u001b[0m\u001b[1;33m\u001b[0m\u001b[0m\n\u001b[0;32m   2351\u001b[0m         updated = session.run(fetches=fetches, feed_dict=feed_dict,\n\u001b[1;32m-> 2352\u001b[1;33m                               **self.session_kwargs)\n\u001b[0m\u001b[0;32m   2353\u001b[0m         \u001b[1;32mreturn\u001b[0m \u001b[0mupdated\u001b[0m\u001b[1;33m[\u001b[0m\u001b[1;33m:\u001b[0m\u001b[0mlen\u001b[0m\u001b[1;33m(\u001b[0m\u001b[0mself\u001b[0m\u001b[1;33m.\u001b[0m\u001b[0moutputs\u001b[0m\u001b[1;33m)\u001b[0m\u001b[1;33m]\u001b[0m\u001b[1;33m\u001b[0m\u001b[0m\n\u001b[0;32m   2354\u001b[0m \u001b[1;33m\u001b[0m\u001b[0m\n",
      "\u001b[1;32m~\\Anaconda3\\envs\\Tensorflow\\lib\\site-packages\\tensorflow\\python\\client\\session.py\u001b[0m in \u001b[0;36mrun\u001b[1;34m(self, fetches, feed_dict, options, run_metadata)\u001b[0m\n\u001b[0;32m    787\u001b[0m     \u001b[1;32mtry\u001b[0m\u001b[1;33m:\u001b[0m\u001b[1;33m\u001b[0m\u001b[0m\n\u001b[0;32m    788\u001b[0m       result = self._run(None, fetches, feed_dict, options_ptr,\n\u001b[1;32m--> 789\u001b[1;33m                          run_metadata_ptr)\n\u001b[0m\u001b[0;32m    790\u001b[0m       \u001b[1;32mif\u001b[0m \u001b[0mrun_metadata\u001b[0m\u001b[1;33m:\u001b[0m\u001b[1;33m\u001b[0m\u001b[0m\n\u001b[0;32m    791\u001b[0m         \u001b[0mproto_data\u001b[0m \u001b[1;33m=\u001b[0m \u001b[0mtf_session\u001b[0m\u001b[1;33m.\u001b[0m\u001b[0mTF_GetBuffer\u001b[0m\u001b[1;33m(\u001b[0m\u001b[0mrun_metadata_ptr\u001b[0m\u001b[1;33m)\u001b[0m\u001b[1;33m\u001b[0m\u001b[0m\n",
      "\u001b[1;32m~\\Anaconda3\\envs\\Tensorflow\\lib\\site-packages\\tensorflow\\python\\client\\session.py\u001b[0m in \u001b[0;36m_run\u001b[1;34m(self, handle, fetches, feed_dict, options, run_metadata)\u001b[0m\n\u001b[0;32m    995\u001b[0m     \u001b[1;32mif\u001b[0m \u001b[0mfinal_fetches\u001b[0m \u001b[1;32mor\u001b[0m \u001b[0mfinal_targets\u001b[0m\u001b[1;33m:\u001b[0m\u001b[1;33m\u001b[0m\u001b[0m\n\u001b[0;32m    996\u001b[0m       results = self._do_run(handle, final_targets, final_fetches,\n\u001b[1;32m--> 997\u001b[1;33m                              feed_dict_string, options, run_metadata)\n\u001b[0m\u001b[0;32m    998\u001b[0m     \u001b[1;32melse\u001b[0m\u001b[1;33m:\u001b[0m\u001b[1;33m\u001b[0m\u001b[0m\n\u001b[0;32m    999\u001b[0m       \u001b[0mresults\u001b[0m \u001b[1;33m=\u001b[0m \u001b[1;33m[\u001b[0m\u001b[1;33m]\u001b[0m\u001b[1;33m\u001b[0m\u001b[0m\n",
      "\u001b[1;32m~\\Anaconda3\\envs\\Tensorflow\\lib\\site-packages\\tensorflow\\python\\client\\session.py\u001b[0m in \u001b[0;36m_do_run\u001b[1;34m(self, handle, target_list, fetch_list, feed_dict, options, run_metadata)\u001b[0m\n\u001b[0;32m   1130\u001b[0m     \u001b[1;32mif\u001b[0m \u001b[0mhandle\u001b[0m \u001b[1;32mis\u001b[0m \u001b[1;32mNone\u001b[0m\u001b[1;33m:\u001b[0m\u001b[1;33m\u001b[0m\u001b[0m\n\u001b[0;32m   1131\u001b[0m       return self._do_call(_run_fn, self._session, feed_dict, fetch_list,\n\u001b[1;32m-> 1132\u001b[1;33m                            target_list, options, run_metadata)\n\u001b[0m\u001b[0;32m   1133\u001b[0m     \u001b[1;32melse\u001b[0m\u001b[1;33m:\u001b[0m\u001b[1;33m\u001b[0m\u001b[0m\n\u001b[0;32m   1134\u001b[0m       return self._do_call(_prun_fn, self._session, handle, feed_dict,\n",
      "\u001b[1;32m~\\Anaconda3\\envs\\Tensorflow\\lib\\site-packages\\tensorflow\\python\\client\\session.py\u001b[0m in \u001b[0;36m_do_call\u001b[1;34m(self, fn, *args)\u001b[0m\n\u001b[0;32m   1137\u001b[0m   \u001b[1;32mdef\u001b[0m \u001b[0m_do_call\u001b[0m\u001b[1;33m(\u001b[0m\u001b[0mself\u001b[0m\u001b[1;33m,\u001b[0m \u001b[0mfn\u001b[0m\u001b[1;33m,\u001b[0m \u001b[1;33m*\u001b[0m\u001b[0margs\u001b[0m\u001b[1;33m)\u001b[0m\u001b[1;33m:\u001b[0m\u001b[1;33m\u001b[0m\u001b[0m\n\u001b[0;32m   1138\u001b[0m     \u001b[1;32mtry\u001b[0m\u001b[1;33m:\u001b[0m\u001b[1;33m\u001b[0m\u001b[0m\n\u001b[1;32m-> 1139\u001b[1;33m       \u001b[1;32mreturn\u001b[0m \u001b[0mfn\u001b[0m\u001b[1;33m(\u001b[0m\u001b[1;33m*\u001b[0m\u001b[0margs\u001b[0m\u001b[1;33m)\u001b[0m\u001b[1;33m\u001b[0m\u001b[0m\n\u001b[0m\u001b[0;32m   1140\u001b[0m     \u001b[1;32mexcept\u001b[0m \u001b[0merrors\u001b[0m\u001b[1;33m.\u001b[0m\u001b[0mOpError\u001b[0m \u001b[1;32mas\u001b[0m \u001b[0me\u001b[0m\u001b[1;33m:\u001b[0m\u001b[1;33m\u001b[0m\u001b[0m\n\u001b[0;32m   1141\u001b[0m       \u001b[0mmessage\u001b[0m \u001b[1;33m=\u001b[0m \u001b[0mcompat\u001b[0m\u001b[1;33m.\u001b[0m\u001b[0mas_text\u001b[0m\u001b[1;33m(\u001b[0m\u001b[0me\u001b[0m\u001b[1;33m.\u001b[0m\u001b[0mmessage\u001b[0m\u001b[1;33m)\u001b[0m\u001b[1;33m\u001b[0m\u001b[0m\n",
      "\u001b[1;32m~\\Anaconda3\\envs\\Tensorflow\\lib\\site-packages\\tensorflow\\python\\client\\session.py\u001b[0m in \u001b[0;36m_run_fn\u001b[1;34m(session, feed_dict, fetch_list, target_list, options, run_metadata)\u001b[0m\n\u001b[0;32m   1119\u001b[0m         return tf_session.TF_Run(session, options,\n\u001b[0;32m   1120\u001b[0m                                  \u001b[0mfeed_dict\u001b[0m\u001b[1;33m,\u001b[0m \u001b[0mfetch_list\u001b[0m\u001b[1;33m,\u001b[0m \u001b[0mtarget_list\u001b[0m\u001b[1;33m,\u001b[0m\u001b[1;33m\u001b[0m\u001b[0m\n\u001b[1;32m-> 1121\u001b[1;33m                                  status, run_metadata)\n\u001b[0m\u001b[0;32m   1122\u001b[0m \u001b[1;33m\u001b[0m\u001b[0m\n\u001b[0;32m   1123\u001b[0m     \u001b[1;32mdef\u001b[0m \u001b[0m_prun_fn\u001b[0m\u001b[1;33m(\u001b[0m\u001b[0msession\u001b[0m\u001b[1;33m,\u001b[0m \u001b[0mhandle\u001b[0m\u001b[1;33m,\u001b[0m \u001b[0mfeed_dict\u001b[0m\u001b[1;33m,\u001b[0m \u001b[0mfetch_list\u001b[0m\u001b[1;33m)\u001b[0m\u001b[1;33m:\u001b[0m\u001b[1;33m\u001b[0m\u001b[0m\n",
      "\u001b[1;31mKeyboardInterrupt\u001b[0m: "
     ]
    }
   ],
   "source": [
    "for epoch in range(epochs):\n",
    "    for _ in range(n_critic):\n",
    "\n",
    "        # ---------------------\n",
    "        #  Train Discriminator\n",
    "        # ---------------------\n",
    "\n",
    "        # Select a random half batch of sequence\n",
    "        idx = np.random.randint(0, y_dash.shape[0], HALF_BATCH)\n",
    "        imgs = y_dash[idx]\n",
    "\n",
    "        # noise = np.random.normal(0, 1, (HALF_BATCH, 100))\n",
    "        noise = x_dash[0:HALF_BATCH]\n",
    "        # Generate a half batch of new sequence\n",
    "        gen_imgs = G.predict(noise)\n",
    "\n",
    "        # Train the discriminator\n",
    "        d_loss_real = D.train_on_batch(imgs, -np.ones((HALF_BATCH, 1)))  # linear activation\n",
    "        d_loss_fake = D.train_on_batch(gen_imgs, np.ones((HALF_BATCH, 1)))\n",
    "        d_loss = 0.5 * np.add(d_loss_fake, d_loss_real)\n",
    "\n",
    "        # Clip discriminator weights\n",
    "        for l in D.layers:\n",
    "            weights = l.get_weights()\n",
    "            weights = [np.clip(w, -CLIP, CLIP) for w in weights]\n",
    "            l.set_weights(weights)\n",
    "\n",
    "            \n",
    "        # ------------------------\n",
    "        #  Train Generator\n",
    "        # ------------------------\n",
    "        # noise = np.random.normal(0, 1, (BATCH_SIZE, 100))\n",
    "        noise = x_dash[0:BATCH_SIZE]\n",
    "        # Train the generator\n",
    "        g_loss = GAN.train_on_batch(\n",
    "            noise, -np.ones((BATCH_SIZE, 1)))  # linear activation\n",
    "    print(\"%d [D loss: %f] [G loss: %f]\" % (epoch, 1 - d_loss[0], 1 - g_loss))\n",
    "    \n",
    "    \n",
    "    if epoch % (epochs / 1000) == 0:\n",
    "        # for saving files\n",
    "        G.save_weights(\".\\\\Output\\\\Gen.h5\")\n",
    "        D.save_weights(\".\\\\Output\\\\Dis.h5\")\n",
    "        GAN.save_weights(\".\\\\Output\\\\GAN.h5\")\n",
    "\n",
    "        # For Prediction\n",
    "        Ghash, checkG = Generator(x_dash, y_dash)\n",
    "        print(\"Prediction\")\n",
    "        Ghash.load_weights('.\\\\output\\\\Gen.h5')\n",
    "        x_pred = [[0, 0, 0, 1, 0, 0],\n",
    "                  [0, 1, 0, 0, 0, 0],\n",
    "                  [0, 0, 0, 0, 0, 1]]\n",
    "        preds = Ghash.predict(x_pred)\n",
    "        y_pred = prediction(preds)\n",
    "        y_pred = seq_txt(y_pred, idx_char)\n",
    "        s = smiles_output(y_pred)\n",
    "        print(s)\n",
    "        # end prediction'''"
   ]
  },
  {
   "cell_type": "code",
   "execution_count": null,
   "metadata": {
    "collapsed": true
   },
   "outputs": [],
   "source": []
  }
 ],
 "metadata": {
  "kernelspec": {
   "display_name": "Python 3",
   "language": "python",
   "name": "python3"
  },
  "language_info": {
   "codemirror_mode": {
    "name": "ipython",
    "version": 3
   },
   "file_extension": ".py",
   "mimetype": "text/x-python",
   "name": "python",
   "nbconvert_exporter": "python",
   "pygments_lexer": "ipython3",
   "version": "3.6.2"
  }
 },
 "nbformat": 4,
 "nbformat_minor": 2
}
